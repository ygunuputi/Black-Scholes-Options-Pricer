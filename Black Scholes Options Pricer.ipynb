{
 "cells": [
  {
   "cell_type": "markdown",
   "id": "dc183f17-151a-45e3-94fd-dc68ef391fcf",
   "metadata": {},
   "source": [
    "<font size=\"12\">Black Scholes Options Pricer:</font>"
   ]
  },
  {
   "cell_type": "markdown",
   "id": "4caaa74f-b27d-4960-b7b0-4a353a4a2813",
   "metadata": {},
   "source": [
    "<font size=\"4\"> Black Scholes Equation is used to estimate the theoretical value of options based on other factors such as the impact of time to maturity and risk-free interest rates. </font>"
   ]
  },
  {
   "cell_type": "markdown",
   "id": "16084a5e-225c-49ba-9756-299bd28546fb",
   "metadata": {},
   "source": [
    "<font size=\"6\">Black Scholes Equation:</font>"
   ]
  },
  {
   "cell_type": "markdown",
   "id": "6a7a7b51-85ec-4ae4-8ec6-4f3677a98c3e",
   "metadata": {},
   "source": [
    "<font size=\"4\">Call Equation:</font>\n",
    "<font size=\"3\">$ C = S*N(d_1)-K*e^{-rT}*N(d_2) $ </font>"
   ]
  },
  {
   "cell_type": "markdown",
   "id": "278ac327-77b3-4ab1-84bb-57a7f5c101e7",
   "metadata": {},
   "source": [
    "<font size=\"4\">Put Equation:</font>\n",
    "<font size=\"3\">$ P = K*e^{-rT}*N(-d_2) - S*N(-d_1) $ </font>"
   ]
  },
  {
   "cell_type": "markdown",
   "id": "586aa786-0e4a-4647-9e97-148e6e1ac272",
   "metadata": {},
   "source": [
    "<font size=\"3\"> $ d_1 = (ln(S/K) + (r+σ^2)*T)/(σ*T)$ </font>"
   ]
  },
  {
   "cell_type": "markdown",
   "id": "4c628550-b64f-4920-bfea-9b226e7183c1",
   "metadata": {},
   "source": [
    "<font size=\"3\"> $ d_2 = d_1 - (σ*T) $ </font>"
   ]
  },
  {
   "cell_type": "markdown",
   "id": "2ff94444-639f-497b-a3e8-e297daf28331",
   "metadata": {},
   "source": [
    "<font size=\"6\">Variables:</font>"
   ]
  },
  {
   "cell_type": "markdown",
   "id": "90861704-83ec-4dde-bcc4-09ac17d8ac71",
   "metadata": {},
   "source": [
    "C = Price of the Call option "
   ]
  },
  {
   "cell_type": "markdown",
   "id": "4457af08-4bb2-4a80-bc85-18e0cd4a3dc1",
   "metadata": {},
   "source": [
    "P = Price of the Put option "
   ]
  },
  {
   "cell_type": "markdown",
   "id": "c4e4c9c8-9381-4161-9959-f0b31ec20a00",
   "metadata": {},
   "source": [
    "S = Underlying Price "
   ]
  },
  {
   "cell_type": "markdown",
   "id": "3edc57b2-9039-431d-93af-3993b44e354f",
   "metadata": {},
   "source": [
    "K = Strike Price "
   ]
  },
  {
   "cell_type": "markdown",
   "id": "e3d6f227-603f-4262-bd6d-7b97ff4eb9e4",
   "metadata": {},
   "source": [
    "r = Risk free interest rate "
   ]
  },
  {
   "cell_type": "markdown",
   "id": "d4c33022-07f0-4d60-846e-f35a2f044f3c",
   "metadata": {},
   "source": [
    "T = Time to maturity"
   ]
  },
  {
   "cell_type": "markdown",
   "id": "cc452243-ffac-4421-9624-0ac00d4a63a5",
   "metadata": {},
   "source": [
    "N = Normal Distribution "
   ]
  },
  {
   "cell_type": "code",
   "execution_count": 2,
   "id": "52d37692-b7a8-4696-a9a1-751ed74192c6",
   "metadata": {},
   "outputs": [],
   "source": [
    "import math\n",
    "from scipy.stats import norm"
   ]
  },
  {
   "cell_type": "code",
   "execution_count": 4,
   "id": "dee143b3-f71b-42f5-8cc4-e064ee9a86e9",
   "metadata": {},
   "outputs": [],
   "source": [
    "class BlackScholes:\n",
    "    def __init__(self,underlying_price, strike_price, time_to_maturity, risk_free_interest_rate, volatility):\n",
    "        self.underlying_price = underlying_price\n",
    "        self.strike_price = strike_price\n",
    "        self.time_to_maturity = time_to_maturity\n",
    "        self.risk_free_interest_rate = risk_free_interest_rate\n",
    "        self.volatility = volatility\n",
    "\n",
    "    def calculate_d1 (self):\n",
    "        d1 = (math.log(self.underlying_price/self.strike_price) + (self.risk_free_interest_rate+(math.pow(self.volatility, 2))/2)*self.time_to_maturity)/(self.volatility*math.sqrt(self.time_to_maturity))\n",
    "        return d1\n",
    "        \n",
    "    def calculate_d2 (self):\n",
    "        d1 = self.calculate_d1()\n",
    "        d2 = d1 - (self.volatility*math.sqrt(self.time_to_maturity))\n",
    "        return d2\n",
    "        \n",
    "    def calculate_call_option (self):\n",
    "        d1 = self.calculate_d1()\n",
    "        d2 = self.calculate_d2()\n",
    "        return (self.underlying_price*norm.cdf(d1))-(self.strike_price*math.pow((math.e),-self.risk_free_interest_rate*self.volatility)*norm.cdf(d2))\n",
    "\n",
    "    def calculate_put_option (self):\n",
    "        d1 = self.calculate_d1()\n",
    "        d2 = self.calculate_d2()\n",
    "        return (self.strike_price*math.pow((math.e),-self.risk_free_interest_rate*self.time_to_maturity)*norm.cdf(-d2)) - (self.underlying_price*norm.cdf(-d1))"
   ]
  },
  {
   "cell_type": "code",
   "execution_count": 6,
   "id": "e792c14a-b9d9-4419-a342-64a928facbf4",
   "metadata": {},
   "outputs": [],
   "source": [
    "values = BlackScholes(100,95,0.5,0.3,0.5)"
   ]
  },
  {
   "cell_type": "code",
   "execution_count": 8,
   "id": "279b3d6c-706d-4207-b6c2-c32f083f5af1",
   "metadata": {},
   "outputs": [
    {
     "name": "stdout",
     "output_type": "stream",
     "text": [
      "23.85238363816937\n"
     ]
    }
   ],
   "source": [
    "call = values.calculate_call_option()\n",
    "print(call)"
   ]
  },
  {
   "cell_type": "code",
   "execution_count": 10,
   "id": "d5e462df-0162-4f4b-8469-56b360257815",
   "metadata": {},
   "outputs": [
    {
     "name": "stdout",
     "output_type": "stream",
     "text": [
      "5.619641398549856\n"
     ]
    }
   ],
   "source": [
    "put = values.calculate_put_option()\n",
    "print(put)"
   ]
  }
 ],
 "metadata": {
  "kernelspec": {
   "display_name": "Python 3 (ipykernel)",
   "language": "python",
   "name": "python3"
  },
  "language_info": {
   "codemirror_mode": {
    "name": "ipython",
    "version": 3
   },
   "file_extension": ".py",
   "mimetype": "text/x-python",
   "name": "python",
   "nbconvert_exporter": "python",
   "pygments_lexer": "ipython3",
   "version": "3.12.4"
  }
 },
 "nbformat": 4,
 "nbformat_minor": 5
}
